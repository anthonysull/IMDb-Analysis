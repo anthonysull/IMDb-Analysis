{
 "cells": [
  {
   "cell_type": "code",
   "execution_count": 1,
   "metadata": {
    "collapsed": true
   },
   "outputs": [],
   "source": [
    "# Import modules\n",
    "import json\n",
    "import urllib\n",
    "import pandas as pd\n",
    "import numpy as np\n",
    "import requests\n",
    "import json\n",
    "import re\n",
    "from bs4 import BeautifulSoup"
   ]
  },
  {
   "cell_type": "code",
   "execution_count": 2,
   "metadata": {
    "collapsed": true
   },
   "outputs": [],
   "source": [
    "import pickle"
   ]
  },
  {
   "cell_type": "code",
   "execution_count": 39,
   "metadata": {
    "collapsed": true
   },
   "outputs": [],
   "source": [
    "with open ('ids_pickle', 'rb') as fp:\n",
    "    title_ids = pickle.load(fp)"
   ]
  },
  {
   "cell_type": "code",
   "execution_count": 40,
   "metadata": {
    "collapsed": false
   },
   "outputs": [],
   "source": [
    "# Grab gross, keywords, producers, music, cinematographer"
   ]
  },
  {
   "cell_type": "code",
   "execution_count": 41,
   "metadata": {
    "collapsed": true
   },
   "outputs": [],
   "source": [
    "# Url for box office info\n",
    "url_boxoffice = 'http://www.imdb.com/title/{}/business?ref_=tt_dt_bus'"
   ]
  },
  {
   "cell_type": "code",
   "execution_count": 42,
   "metadata": {
    "collapsed": true
   },
   "outputs": [],
   "source": [
    "# Function to request and soup our search pages\n",
    "def soupy(url):\n",
    "    headers = {'User-Agent': 'Mozilla/5.0 (Macintosh; Intel Mac OS X 10_10_1) AppleWebKit/537.36 (KHTML, like Gecko) Chrome/39.0.2171.95 Safari/537.36'}\n",
    "    response = requests.get(url, headers=headers)\n",
    "    content = response.content\n",
    "    soup = BeautifulSoup(content, \"lxml\")\n",
    "    return soup"
   ]
  },
  {
   "cell_type": "code",
   "execution_count": 43,
   "metadata": {
    "collapsed": true
   },
   "outputs": [],
   "source": [
    "# Function to grab Box Office info\n",
    "\n",
    "def get_gross(url):\n",
    "    soup = soupy(url)\n",
    "    Id = url.split('/')[4]\n",
    "    try:\n",
    "        Budget = soup.find(text=re.compile(\"Budget\"))\n",
    "        budget = Budget.next_element\n",
    "        budget = budget.strip().replace(',','').replace('$','').split()[0]\n",
    "    except AttributeError:\n",
    "        budget = None\n",
    "    try:\n",
    "        Gross = soup.find(text=re.compile(\"Gross\"))\n",
    "        gross = Gross.next_element\n",
    "        try:\n",
    "            gross = gross.strip().replace(',','').replace('$','').split()[0]\n",
    "        except:\n",
    "            pass\n",
    "    except AttributeError:\n",
    "        gross = None\n",
    "    try:    \n",
    "        gross_w = soup.find(text=re.compile(r\"[Ww]orldwide\"))\n",
    "        gross_w = gross_w.strip().replace(',','').replace('$','').split()[0]\n",
    "    except AttributeError:\n",
    "        gross_w = None\n",
    "        \n",
    "    gross_info.append([Id, budget, gross, gross_w]) "
   ]
  },
  {
   "cell_type": "code",
   "execution_count": 44,
   "metadata": {
    "collapsed": true
   },
   "outputs": [],
   "source": [
    "# List to capture info\n",
    "gross_info = []"
   ]
  },
  {
   "cell_type": "code",
   "execution_count": 109,
   "metadata": {
    "collapsed": false
   },
   "outputs": [],
   "source": [
    "# Loop over each id to grab box office for each title\n",
    "for i in title_ids[16000:]:\n",
    "    get_gross(url_boxoffice.format(i))"
   ]
  },
  {
   "cell_type": "code",
   "execution_count": 110,
   "metadata": {
    "collapsed": false
   },
   "outputs": [
    {
     "data": {
      "text/plain": [
       "16136"
      ]
     },
     "execution_count": 110,
     "metadata": {},
     "output_type": "execute_result"
    }
   ],
   "source": [
    "len(gross_info)"
   ]
  },
  {
   "cell_type": "code",
   "execution_count": 199,
   "metadata": {
    "collapsed": false
   },
   "outputs": [],
   "source": [
    "# gross_info"
   ]
  },
  {
   "cell_type": "code",
   "execution_count": 111,
   "metadata": {
    "collapsed": true
   },
   "outputs": [],
   "source": [
    "gross_df = pd.DataFrame(gross_info)"
   ]
  },
  {
   "cell_type": "code",
   "execution_count": 112,
   "metadata": {
    "collapsed": true
   },
   "outputs": [],
   "source": [
    "gross_df.columns = ['imdbID', 'Budget', 'Gross', 'Gross_World']"
   ]
  },
  {
   "cell_type": "code",
   "execution_count": 113,
   "metadata": {
    "collapsed": true
   },
   "outputs": [],
   "source": [
    "# Drop any duplicates\n",
    "gross_df.drop_duplicates(subset='imdbID', inplace=True)"
   ]
  },
  {
   "cell_type": "code",
   "execution_count": 114,
   "metadata": {
    "collapsed": true
   },
   "outputs": [],
   "source": [
    "# Drop any null ids that resulted from our connection being kicked\n",
    "gross_df = gross_df[gross_df.imdbID.notnull()]"
   ]
  },
  {
   "cell_type": "code",
   "execution_count": 115,
   "metadata": {
    "collapsed": true
   },
   "outputs": [],
   "source": [
    "gross_df.reset_index(drop=True, inplace=True)"
   ]
  },
  {
   "cell_type": "code",
   "execution_count": 116,
   "metadata": {
    "collapsed": false
   },
   "outputs": [
    {
     "data": {
      "text/plain": [
       "(16136, 4)"
      ]
     },
     "execution_count": 116,
     "metadata": {},
     "output_type": "execute_result"
    }
   ],
   "source": [
    "gross_df.shape"
   ]
  },
  {
   "cell_type": "code",
   "execution_count": 117,
   "metadata": {
    "collapsed": false
   },
   "outputs": [
    {
     "data": {
      "text/html": [
       "<div>\n",
       "<table border=\"1\" class=\"dataframe\">\n",
       "  <thead>\n",
       "    <tr style=\"text-align: right;\">\n",
       "      <th></th>\n",
       "      <th>imdbID</th>\n",
       "      <th>Budget</th>\n",
       "      <th>Gross</th>\n",
       "      <th>Gross_World</th>\n",
       "    </tr>\n",
       "  </thead>\n",
       "  <tbody>\n",
       "    <tr>\n",
       "      <th>0</th>\n",
       "      <td>tt0437222</td>\n",
       "      <td>None</td>\n",
       "      <td>None</td>\n",
       "      <td>None</td>\n",
       "    </tr>\n",
       "    <tr>\n",
       "      <th>1</th>\n",
       "      <td>tt0050210</td>\n",
       "      <td>58000</td>\n",
       "      <td>None</td>\n",
       "      <td>None</td>\n",
       "    </tr>\n",
       "    <tr>\n",
       "      <th>2</th>\n",
       "      <td>tt0030725</td>\n",
       "      <td>None</td>\n",
       "      <td>None</td>\n",
       "      <td>None</td>\n",
       "    </tr>\n",
       "    <tr>\n",
       "      <th>3</th>\n",
       "      <td>tt0050212</td>\n",
       "      <td>3000000</td>\n",
       "      <td>5668000</td>\n",
       "      <td>None</td>\n",
       "    </tr>\n",
       "    <tr>\n",
       "      <th>4</th>\n",
       "      <td>tt0381681</td>\n",
       "      <td>2700000</td>\n",
       "      <td>5792822</td>\n",
       "      <td>None</td>\n",
       "    </tr>\n",
       "  </tbody>\n",
       "</table>\n",
       "</div>"
      ],
      "text/plain": [
       "      imdbID   Budget    Gross Gross_World\n",
       "0  tt0437222     None     None        None\n",
       "1  tt0050210    58000     None        None\n",
       "2  tt0030725     None     None        None\n",
       "3  tt0050212  3000000  5668000        None\n",
       "4  tt0381681  2700000  5792822        None"
      ]
     },
     "execution_count": 117,
     "metadata": {},
     "output_type": "execute_result"
    }
   ],
   "source": [
    "gross_df.head()"
   ]
  },
  {
   "cell_type": "code",
   "execution_count": 118,
   "metadata": {
    "collapsed": false
   },
   "outputs": [
    {
     "data": {
      "text/html": [
       "<div>\n",
       "<table border=\"1\" class=\"dataframe\">\n",
       "  <thead>\n",
       "    <tr style=\"text-align: right;\">\n",
       "      <th></th>\n",
       "      <th>imdbID</th>\n",
       "      <th>Budget</th>\n",
       "      <th>Gross</th>\n",
       "      <th>Gross_World</th>\n",
       "    </tr>\n",
       "  </thead>\n",
       "  <tbody>\n",
       "    <tr>\n",
       "      <th>count</th>\n",
       "      <td>16136</td>\n",
       "      <td>6467</td>\n",
       "      <td>6698</td>\n",
       "      <td>2872</td>\n",
       "    </tr>\n",
       "    <tr>\n",
       "      <th>unique</th>\n",
       "      <td>16136</td>\n",
       "      <td>1240</td>\n",
       "      <td>5976</td>\n",
       "      <td>2707</td>\n",
       "    </tr>\n",
       "    <tr>\n",
       "      <th>top</th>\n",
       "      <td>tt0102138</td>\n",
       "      <td>20000000</td>\n",
       "      <td>ITL</td>\n",
       "      <td>60000000</td>\n",
       "    </tr>\n",
       "    <tr>\n",
       "      <th>freq</th>\n",
       "      <td>1</td>\n",
       "      <td>176</td>\n",
       "      <td>116</td>\n",
       "      <td>9</td>\n",
       "    </tr>\n",
       "  </tbody>\n",
       "</table>\n",
       "</div>"
      ],
      "text/plain": [
       "           imdbID    Budget Gross Gross_World\n",
       "count       16136      6467  6698        2872\n",
       "unique      16136      1240  5976        2707\n",
       "top     tt0102138  20000000   ITL    60000000\n",
       "freq            1       176   116           9"
      ]
     },
     "execution_count": 118,
     "metadata": {},
     "output_type": "execute_result"
    }
   ],
   "source": [
    "gross_df.describe()"
   ]
  },
  {
   "cell_type": "code",
   "execution_count": 119,
   "metadata": {
    "collapsed": false
   },
   "outputs": [],
   "source": [
    "# Export dataframe to csv\n",
    "gross_df.to_csv('gross.csv', encoding='utf-8')"
   ]
  },
  {
   "cell_type": "code",
   "execution_count": 120,
   "metadata": {
    "collapsed": false
   },
   "outputs": [],
   "source": [
    "gross_df = pd.read_csv('gross.csv', usecols=['imdbID', 'Budget', 'Gross', 'Gross_World'])"
   ]
  },
  {
   "cell_type": "code",
   "execution_count": 121,
   "metadata": {
    "collapsed": false
   },
   "outputs": [
    {
     "data": {
      "text/html": [
       "<div>\n",
       "<table border=\"1\" class=\"dataframe\">\n",
       "  <thead>\n",
       "    <tr style=\"text-align: right;\">\n",
       "      <th></th>\n",
       "      <th>imdbID</th>\n",
       "      <th>Budget</th>\n",
       "      <th>Gross</th>\n",
       "      <th>Gross_World</th>\n",
       "    </tr>\n",
       "  </thead>\n",
       "  <tbody>\n",
       "    <tr>\n",
       "      <th>0</th>\n",
       "      <td>tt0437222</td>\n",
       "      <td>NaN</td>\n",
       "      <td>NaN</td>\n",
       "      <td>NaN</td>\n",
       "    </tr>\n",
       "    <tr>\n",
       "      <th>1</th>\n",
       "      <td>tt0050210</td>\n",
       "      <td>58000</td>\n",
       "      <td>NaN</td>\n",
       "      <td>NaN</td>\n",
       "    </tr>\n",
       "    <tr>\n",
       "      <th>2</th>\n",
       "      <td>tt0030725</td>\n",
       "      <td>NaN</td>\n",
       "      <td>NaN</td>\n",
       "      <td>NaN</td>\n",
       "    </tr>\n",
       "    <tr>\n",
       "      <th>3</th>\n",
       "      <td>tt0050212</td>\n",
       "      <td>3000000</td>\n",
       "      <td>5668000</td>\n",
       "      <td>NaN</td>\n",
       "    </tr>\n",
       "    <tr>\n",
       "      <th>4</th>\n",
       "      <td>tt0381681</td>\n",
       "      <td>2700000</td>\n",
       "      <td>5792822</td>\n",
       "      <td>NaN</td>\n",
       "    </tr>\n",
       "  </tbody>\n",
       "</table>\n",
       "</div>"
      ],
      "text/plain": [
       "      imdbID   Budget    Gross Gross_World\n",
       "0  tt0437222      NaN      NaN         NaN\n",
       "1  tt0050210    58000      NaN         NaN\n",
       "2  tt0030725      NaN      NaN         NaN\n",
       "3  tt0050212  3000000  5668000         NaN\n",
       "4  tt0381681  2700000  5792822         NaN"
      ]
     },
     "execution_count": 121,
     "metadata": {},
     "output_type": "execute_result"
    }
   ],
   "source": [
    "gross_df.head()"
   ]
  },
  {
   "cell_type": "code",
   "execution_count": 122,
   "metadata": {
    "collapsed": false
   },
   "outputs": [
    {
     "name": "stdout",
     "output_type": "stream",
     "text": [
      "<class 'pandas.core.frame.DataFrame'>\n",
      "RangeIndex: 16136 entries, 0 to 16135\n",
      "Data columns (total 4 columns):\n",
      "imdbID         16136 non-null object\n",
      "Budget         6467 non-null object\n",
      "Gross          6698 non-null object\n",
      "Gross_World    2872 non-null object\n",
      "dtypes: object(4)\n",
      "memory usage: 504.3+ KB\n"
     ]
    }
   ],
   "source": [
    "gross_df.info()"
   ]
  },
  {
   "cell_type": "code",
   "execution_count": 123,
   "metadata": {
    "collapsed": false
   },
   "outputs": [],
   "source": [
    "gross_df.Gross = gross_df.Gross.apply(pd.to_numeric, errors='coerce')"
   ]
  },
  {
   "cell_type": "code",
   "execution_count": 124,
   "metadata": {
    "collapsed": true
   },
   "outputs": [],
   "source": [
    "gross_df.Budget = gross_df.Budget.apply(pd.to_numeric, errors='coerce')"
   ]
  },
  {
   "cell_type": "code",
   "execution_count": 125,
   "metadata": {
    "collapsed": true
   },
   "outputs": [],
   "source": [
    "gross_df.Gross_World = gross_df.Gross_World.apply(pd.to_numeric, errors='coerce')"
   ]
  },
  {
   "cell_type": "code",
   "execution_count": 126,
   "metadata": {
    "collapsed": false
   },
   "outputs": [
    {
     "data": {
      "text/html": [
       "<div>\n",
       "<table border=\"1\" class=\"dataframe\">\n",
       "  <thead>\n",
       "    <tr style=\"text-align: right;\">\n",
       "      <th></th>\n",
       "      <th>Budget</th>\n",
       "      <th>Gross</th>\n",
       "      <th>Gross_World</th>\n",
       "    </tr>\n",
       "  </thead>\n",
       "  <tbody>\n",
       "    <tr>\n",
       "      <th>count</th>\n",
       "      <td>6.069000e+03</td>\n",
       "      <td>6.273000e+03</td>\n",
       "      <td>2.856000e+03</td>\n",
       "    </tr>\n",
       "    <tr>\n",
       "      <th>mean</th>\n",
       "      <td>2.578905e+07</td>\n",
       "      <td>3.754193e+07</td>\n",
       "      <td>1.383029e+08</td>\n",
       "    </tr>\n",
       "    <tr>\n",
       "      <th>std</th>\n",
       "      <td>3.804192e+07</td>\n",
       "      <td>5.956840e+07</td>\n",
       "      <td>1.999365e+08</td>\n",
       "    </tr>\n",
       "    <tr>\n",
       "      <th>min</th>\n",
       "      <td>4.000000e+02</td>\n",
       "      <td>6.400000e+01</td>\n",
       "      <td>2.389000e+03</td>\n",
       "    </tr>\n",
       "    <tr>\n",
       "      <th>25%</th>\n",
       "      <td>NaN</td>\n",
       "      <td>NaN</td>\n",
       "      <td>NaN</td>\n",
       "    </tr>\n",
       "    <tr>\n",
       "      <th>50%</th>\n",
       "      <td>NaN</td>\n",
       "      <td>NaN</td>\n",
       "      <td>NaN</td>\n",
       "    </tr>\n",
       "    <tr>\n",
       "      <th>75%</th>\n",
       "      <td>NaN</td>\n",
       "      <td>NaN</td>\n",
       "      <td>NaN</td>\n",
       "    </tr>\n",
       "    <tr>\n",
       "      <th>max</th>\n",
       "      <td>3.000000e+08</td>\n",
       "      <td>9.366274e+08</td>\n",
       "      <td>2.787965e+09</td>\n",
       "    </tr>\n",
       "  </tbody>\n",
       "</table>\n",
       "</div>"
      ],
      "text/plain": [
       "             Budget         Gross   Gross_World\n",
       "count  6.069000e+03  6.273000e+03  2.856000e+03\n",
       "mean   2.578905e+07  3.754193e+07  1.383029e+08\n",
       "std    3.804192e+07  5.956840e+07  1.999365e+08\n",
       "min    4.000000e+02  6.400000e+01  2.389000e+03\n",
       "25%             NaN           NaN           NaN\n",
       "50%             NaN           NaN           NaN\n",
       "75%             NaN           NaN           NaN\n",
       "max    3.000000e+08  9.366274e+08  2.787965e+09"
      ]
     },
     "execution_count": 126,
     "metadata": {},
     "output_type": "execute_result"
    }
   ],
   "source": [
    "gross_df.describe()"
   ]
  },
  {
   "cell_type": "code",
   "execution_count": 127,
   "metadata": {
    "collapsed": false
   },
   "outputs": [],
   "source": [
    "gross_cull = gross_df.dropna(axis=0, how='all', subset=['Budget', 'Gross', 'Gross_World'])"
   ]
  },
  {
   "cell_type": "code",
   "execution_count": 128,
   "metadata": {
    "collapsed": true
   },
   "outputs": [],
   "source": [
    "# Export dataframe with pickle\n",
    "gross_cull.to_pickle('gross_cull.pkl')"
   ]
  },
  {
   "cell_type": "code",
   "execution_count": 129,
   "metadata": {
    "collapsed": true
   },
   "outputs": [],
   "source": [
    "gross_cull = pd.read_pickle('gross_cull.pkl')"
   ]
  },
  {
   "cell_type": "code",
   "execution_count": 130,
   "metadata": {
    "collapsed": false
   },
   "outputs": [
    {
     "data": {
      "text/html": [
       "<div>\n",
       "<table border=\"1\" class=\"dataframe\">\n",
       "  <thead>\n",
       "    <tr style=\"text-align: right;\">\n",
       "      <th></th>\n",
       "      <th>Budget</th>\n",
       "      <th>Gross</th>\n",
       "      <th>Gross_World</th>\n",
       "    </tr>\n",
       "  </thead>\n",
       "  <tbody>\n",
       "    <tr>\n",
       "      <th>count</th>\n",
       "      <td>6.069000e+03</td>\n",
       "      <td>6.273000e+03</td>\n",
       "      <td>2.856000e+03</td>\n",
       "    </tr>\n",
       "    <tr>\n",
       "      <th>mean</th>\n",
       "      <td>2.578905e+07</td>\n",
       "      <td>3.754193e+07</td>\n",
       "      <td>1.383029e+08</td>\n",
       "    </tr>\n",
       "    <tr>\n",
       "      <th>std</th>\n",
       "      <td>3.804192e+07</td>\n",
       "      <td>5.956840e+07</td>\n",
       "      <td>1.999365e+08</td>\n",
       "    </tr>\n",
       "    <tr>\n",
       "      <th>min</th>\n",
       "      <td>4.000000e+02</td>\n",
       "      <td>6.400000e+01</td>\n",
       "      <td>2.389000e+03</td>\n",
       "    </tr>\n",
       "    <tr>\n",
       "      <th>25%</th>\n",
       "      <td>NaN</td>\n",
       "      <td>NaN</td>\n",
       "      <td>NaN</td>\n",
       "    </tr>\n",
       "    <tr>\n",
       "      <th>50%</th>\n",
       "      <td>NaN</td>\n",
       "      <td>NaN</td>\n",
       "      <td>NaN</td>\n",
       "    </tr>\n",
       "    <tr>\n",
       "      <th>75%</th>\n",
       "      <td>NaN</td>\n",
       "      <td>NaN</td>\n",
       "      <td>NaN</td>\n",
       "    </tr>\n",
       "    <tr>\n",
       "      <th>max</th>\n",
       "      <td>3.000000e+08</td>\n",
       "      <td>9.366274e+08</td>\n",
       "      <td>2.787965e+09</td>\n",
       "    </tr>\n",
       "  </tbody>\n",
       "</table>\n",
       "</div>"
      ],
      "text/plain": [
       "             Budget         Gross   Gross_World\n",
       "count  6.069000e+03  6.273000e+03  2.856000e+03\n",
       "mean   2.578905e+07  3.754193e+07  1.383029e+08\n",
       "std    3.804192e+07  5.956840e+07  1.999365e+08\n",
       "min    4.000000e+02  6.400000e+01  2.389000e+03\n",
       "25%             NaN           NaN           NaN\n",
       "50%             NaN           NaN           NaN\n",
       "75%             NaN           NaN           NaN\n",
       "max    3.000000e+08  9.366274e+08  2.787965e+09"
      ]
     },
     "execution_count": 130,
     "metadata": {},
     "output_type": "execute_result"
    }
   ],
   "source": [
    "gross_cull.describe()"
   ]
  },
  {
   "cell_type": "code",
   "execution_count": 131,
   "metadata": {
    "collapsed": false
   },
   "outputs": [
    {
     "data": {
      "text/html": [
       "<div>\n",
       "<table border=\"1\" class=\"dataframe\">\n",
       "  <thead>\n",
       "    <tr style=\"text-align: right;\">\n",
       "      <th></th>\n",
       "      <th>imdbID</th>\n",
       "      <th>Budget</th>\n",
       "      <th>Gross</th>\n",
       "      <th>Gross_World</th>\n",
       "    </tr>\n",
       "  </thead>\n",
       "  <tbody>\n",
       "    <tr>\n",
       "      <th>1</th>\n",
       "      <td>tt0050210</td>\n",
       "      <td>58000.0</td>\n",
       "      <td>NaN</td>\n",
       "      <td>NaN</td>\n",
       "    </tr>\n",
       "    <tr>\n",
       "      <th>3</th>\n",
       "      <td>tt0050212</td>\n",
       "      <td>3000000.0</td>\n",
       "      <td>5668000.0</td>\n",
       "      <td>NaN</td>\n",
       "    </tr>\n",
       "    <tr>\n",
       "      <th>4</th>\n",
       "      <td>tt0381681</td>\n",
       "      <td>2700000.0</td>\n",
       "      <td>5792822.0</td>\n",
       "      <td>NaN</td>\n",
       "    </tr>\n",
       "    <tr>\n",
       "      <th>5</th>\n",
       "      <td>tt0472160</td>\n",
       "      <td>15000000.0</td>\n",
       "      <td>10011274.0</td>\n",
       "      <td>NaN</td>\n",
       "    </tr>\n",
       "    <tr>\n",
       "      <th>6</th>\n",
       "      <td>tt0209475</td>\n",
       "      <td>35000000.0</td>\n",
       "      <td>60400856.0</td>\n",
       "      <td>94728529.0</td>\n",
       "    </tr>\n",
       "  </tbody>\n",
       "</table>\n",
       "</div>"
      ],
      "text/plain": [
       "      imdbID      Budget       Gross  Gross_World\n",
       "1  tt0050210     58000.0         NaN          NaN\n",
       "3  tt0050212   3000000.0   5668000.0          NaN\n",
       "4  tt0381681   2700000.0   5792822.0          NaN\n",
       "5  tt0472160  15000000.0  10011274.0          NaN\n",
       "6  tt0209475  35000000.0  60400856.0   94728529.0"
      ]
     },
     "execution_count": 131,
     "metadata": {},
     "output_type": "execute_result"
    }
   ],
   "source": [
    "gross_cull.head()"
   ]
  },
  {
   "cell_type": "code",
   "execution_count": 132,
   "metadata": {
    "collapsed": false
   },
   "outputs": [
    {
     "name": "stderr",
     "output_type": "stream",
     "text": [
      "/anaconda/lib/python2.7/site-packages/ipykernel/__main__.py:4: SettingWithCopyWarning: \n",
      "A value is trying to be set on a copy of a slice from a DataFrame\n",
      "\n",
      "See the caveats in the documentation: http://pandas.pydata.org/pandas-docs/stable/indexing.html#indexing-view-versus-copy\n"
     ]
    }
   ],
   "source": [
    "# Replcae Gross with Gross world if gross world exists\n",
    "cond = gross_cull.Gross_World > 0\n",
    "\n",
    "gross_cull.Gross[cond] = gross_cull.Gross_World[cond]"
   ]
  },
  {
   "cell_type": "code",
   "execution_count": 133,
   "metadata": {
    "collapsed": false
   },
   "outputs": [],
   "source": [
    "# Calculate Box Office performance\n",
    "gross_cull['performance'] = (gross_cull['Gross'] - gross_cull['Budget'])/gross_cull['Budget']"
   ]
  },
  {
   "cell_type": "code",
   "execution_count": 134,
   "metadata": {
    "collapsed": false
   },
   "outputs": [
    {
     "data": {
      "text/html": [
       "<div>\n",
       "<table border=\"1\" class=\"dataframe\">\n",
       "  <thead>\n",
       "    <tr style=\"text-align: right;\">\n",
       "      <th></th>\n",
       "      <th>imdbID</th>\n",
       "      <th>Budget</th>\n",
       "      <th>Gross</th>\n",
       "      <th>Gross_World</th>\n",
       "      <th>performance</th>\n",
       "    </tr>\n",
       "  </thead>\n",
       "  <tbody>\n",
       "    <tr>\n",
       "      <th>1</th>\n",
       "      <td>tt0050210</td>\n",
       "      <td>58000.0</td>\n",
       "      <td>NaN</td>\n",
       "      <td>NaN</td>\n",
       "      <td>NaN</td>\n",
       "    </tr>\n",
       "    <tr>\n",
       "      <th>3</th>\n",
       "      <td>tt0050212</td>\n",
       "      <td>3000000.0</td>\n",
       "      <td>5668000.0</td>\n",
       "      <td>NaN</td>\n",
       "      <td>0.889333</td>\n",
       "    </tr>\n",
       "    <tr>\n",
       "      <th>4</th>\n",
       "      <td>tt0381681</td>\n",
       "      <td>2700000.0</td>\n",
       "      <td>5792822.0</td>\n",
       "      <td>NaN</td>\n",
       "      <td>1.145490</td>\n",
       "    </tr>\n",
       "    <tr>\n",
       "      <th>5</th>\n",
       "      <td>tt0472160</td>\n",
       "      <td>15000000.0</td>\n",
       "      <td>10011274.0</td>\n",
       "      <td>NaN</td>\n",
       "      <td>-0.332582</td>\n",
       "    </tr>\n",
       "    <tr>\n",
       "      <th>6</th>\n",
       "      <td>tt0209475</td>\n",
       "      <td>35000000.0</td>\n",
       "      <td>94728529.0</td>\n",
       "      <td>94728529.0</td>\n",
       "      <td>1.706529</td>\n",
       "    </tr>\n",
       "    <tr>\n",
       "      <th>8</th>\n",
       "      <td>tt0871426</td>\n",
       "      <td>30000000.0</td>\n",
       "      <td>60269340.0</td>\n",
       "      <td>NaN</td>\n",
       "      <td>1.008978</td>\n",
       "    </tr>\n",
       "    <tr>\n",
       "      <th>16</th>\n",
       "      <td>tt0103639</td>\n",
       "      <td>28000000.0</td>\n",
       "      <td>504050219.0</td>\n",
       "      <td>504050219.0</td>\n",
       "      <td>17.001794</td>\n",
       "    </tr>\n",
       "    <tr>\n",
       "      <th>17</th>\n",
       "      <td>tt0098384</td>\n",
       "      <td>NaN</td>\n",
       "      <td>95904091.0</td>\n",
       "      <td>95904091.0</td>\n",
       "      <td>NaN</td>\n",
       "    </tr>\n",
       "    <tr>\n",
       "      <th>18</th>\n",
       "      <td>tt1185416</td>\n",
       "      <td>55000000.0</td>\n",
       "      <td>32669555.0</td>\n",
       "      <td>NaN</td>\n",
       "      <td>-0.406008</td>\n",
       "    </tr>\n",
       "    <tr>\n",
       "      <th>19</th>\n",
       "      <td>tt0208874</td>\n",
       "      <td>20000000.0</td>\n",
       "      <td>22361811.0</td>\n",
       "      <td>22361811.0</td>\n",
       "      <td>0.118091</td>\n",
       "    </tr>\n",
       "  </tbody>\n",
       "</table>\n",
       "</div>"
      ],
      "text/plain": [
       "       imdbID      Budget        Gross  Gross_World  performance\n",
       "1   tt0050210     58000.0          NaN          NaN          NaN\n",
       "3   tt0050212   3000000.0    5668000.0          NaN     0.889333\n",
       "4   tt0381681   2700000.0    5792822.0          NaN     1.145490\n",
       "5   tt0472160  15000000.0   10011274.0          NaN    -0.332582\n",
       "6   tt0209475  35000000.0   94728529.0   94728529.0     1.706529\n",
       "8   tt0871426  30000000.0   60269340.0          NaN     1.008978\n",
       "16  tt0103639  28000000.0  504050219.0  504050219.0    17.001794\n",
       "17  tt0098384         NaN   95904091.0   95904091.0          NaN\n",
       "18  tt1185416  55000000.0   32669555.0          NaN    -0.406008\n",
       "19  tt0208874  20000000.0   22361811.0   22361811.0     0.118091"
      ]
     },
     "execution_count": 134,
     "metadata": {},
     "output_type": "execute_result"
    }
   ],
   "source": [
    "gross_cull.head(10)"
   ]
  },
  {
   "cell_type": "code",
   "execution_count": 137,
   "metadata": {
    "collapsed": true
   },
   "outputs": [],
   "source": [
    "gross_cull.drop('Gross_World', axis=1, inplace=True)"
   ]
  },
  {
   "cell_type": "code",
   "execution_count": 138,
   "metadata": {
    "collapsed": false
   },
   "outputs": [
    {
     "data": {
      "text/html": [
       "<div>\n",
       "<table border=\"1\" class=\"dataframe\">\n",
       "  <thead>\n",
       "    <tr style=\"text-align: right;\">\n",
       "      <th></th>\n",
       "      <th>imdbID</th>\n",
       "      <th>Budget</th>\n",
       "      <th>Gross</th>\n",
       "      <th>performance</th>\n",
       "    </tr>\n",
       "  </thead>\n",
       "  <tbody>\n",
       "    <tr>\n",
       "      <th>1</th>\n",
       "      <td>tt0050210</td>\n",
       "      <td>58000.0</td>\n",
       "      <td>NaN</td>\n",
       "      <td>NaN</td>\n",
       "    </tr>\n",
       "    <tr>\n",
       "      <th>3</th>\n",
       "      <td>tt0050212</td>\n",
       "      <td>3000000.0</td>\n",
       "      <td>5668000.0</td>\n",
       "      <td>0.889333</td>\n",
       "    </tr>\n",
       "    <tr>\n",
       "      <th>4</th>\n",
       "      <td>tt0381681</td>\n",
       "      <td>2700000.0</td>\n",
       "      <td>5792822.0</td>\n",
       "      <td>1.145490</td>\n",
       "    </tr>\n",
       "    <tr>\n",
       "      <th>5</th>\n",
       "      <td>tt0472160</td>\n",
       "      <td>15000000.0</td>\n",
       "      <td>10011274.0</td>\n",
       "      <td>-0.332582</td>\n",
       "    </tr>\n",
       "    <tr>\n",
       "      <th>6</th>\n",
       "      <td>tt0209475</td>\n",
       "      <td>35000000.0</td>\n",
       "      <td>94728529.0</td>\n",
       "      <td>1.706529</td>\n",
       "    </tr>\n",
       "  </tbody>\n",
       "</table>\n",
       "</div>"
      ],
      "text/plain": [
       "      imdbID      Budget       Gross  performance\n",
       "1  tt0050210     58000.0         NaN          NaN\n",
       "3  tt0050212   3000000.0   5668000.0     0.889333\n",
       "4  tt0381681   2700000.0   5792822.0     1.145490\n",
       "5  tt0472160  15000000.0  10011274.0    -0.332582\n",
       "6  tt0209475  35000000.0  94728529.0     1.706529"
      ]
     },
     "execution_count": 138,
     "metadata": {},
     "output_type": "execute_result"
    }
   ],
   "source": [
    "gross_cull.head()"
   ]
  },
  {
   "cell_type": "code",
   "execution_count": 139,
   "metadata": {
    "collapsed": true
   },
   "outputs": [],
   "source": [
    "# Export dataframe with pickle\n",
    "gross_cull.to_pickle('gross_perf.pkl')"
   ]
  },
  {
   "cell_type": "code",
   "execution_count": 140,
   "metadata": {
    "collapsed": false
   },
   "outputs": [
    {
     "data": {
      "text/html": [
       "<div>\n",
       "<table border=\"1\" class=\"dataframe\">\n",
       "  <thead>\n",
       "    <tr style=\"text-align: right;\">\n",
       "      <th></th>\n",
       "      <th>Budget</th>\n",
       "      <th>Gross</th>\n",
       "      <th>performance</th>\n",
       "    </tr>\n",
       "  </thead>\n",
       "  <tbody>\n",
       "    <tr>\n",
       "      <th>count</th>\n",
       "      <td>6.069000e+03</td>\n",
       "      <td>6.433000e+03</td>\n",
       "      <td>4801.000000</td>\n",
       "    </tr>\n",
       "    <tr>\n",
       "      <th>mean</th>\n",
       "      <td>2.578905e+07</td>\n",
       "      <td>6.938995e+07</td>\n",
       "      <td>7.686365</td>\n",
       "    </tr>\n",
       "    <tr>\n",
       "      <th>std</th>\n",
       "      <td>3.804192e+07</td>\n",
       "      <td>1.473397e+08</td>\n",
       "      <td>189.526776</td>\n",
       "    </tr>\n",
       "    <tr>\n",
       "      <th>min</th>\n",
       "      <td>4.000000e+02</td>\n",
       "      <td>6.400000e+01</td>\n",
       "      <td>-0.999510</td>\n",
       "    </tr>\n",
       "    <tr>\n",
       "      <th>25%</th>\n",
       "      <td>NaN</td>\n",
       "      <td>NaN</td>\n",
       "      <td>NaN</td>\n",
       "    </tr>\n",
       "    <tr>\n",
       "      <th>50%</th>\n",
       "      <td>NaN</td>\n",
       "      <td>NaN</td>\n",
       "      <td>NaN</td>\n",
       "    </tr>\n",
       "    <tr>\n",
       "      <th>75%</th>\n",
       "      <td>NaN</td>\n",
       "      <td>NaN</td>\n",
       "      <td>NaN</td>\n",
       "    </tr>\n",
       "    <tr>\n",
       "      <th>max</th>\n",
       "      <td>3.000000e+08</td>\n",
       "      <td>2.787965e+09</td>\n",
       "      <td>12889.386667</td>\n",
       "    </tr>\n",
       "  </tbody>\n",
       "</table>\n",
       "</div>"
      ],
      "text/plain": [
       "             Budget         Gross   performance\n",
       "count  6.069000e+03  6.433000e+03   4801.000000\n",
       "mean   2.578905e+07  6.938995e+07      7.686365\n",
       "std    3.804192e+07  1.473397e+08    189.526776\n",
       "min    4.000000e+02  6.400000e+01     -0.999510\n",
       "25%             NaN           NaN           NaN\n",
       "50%             NaN           NaN           NaN\n",
       "75%             NaN           NaN           NaN\n",
       "max    3.000000e+08  2.787965e+09  12889.386667"
      ]
     },
     "execution_count": 140,
     "metadata": {},
     "output_type": "execute_result"
    }
   ],
   "source": [
    "gross_cull.describe()"
   ]
  },
  {
   "cell_type": "markdown",
   "metadata": {},
   "source": [
    "---\n",
    "### Grab producer credits"
   ]
  },
  {
   "cell_type": "code",
   "execution_count": 113,
   "metadata": {
    "collapsed": false
   },
   "outputs": [],
   "source": [
    "# Url for grabbibg ore credit info\n",
    "url_credits = 'http://www.imdb.com/title/{}/fullcredits?ref_=tt_ov_st_sm'"
   ]
  },
  {
   "cell_type": "code",
   "execution_count": 117,
   "metadata": {
    "collapsed": true
   },
   "outputs": [],
   "source": [
    "# Function to grab producer info\n",
    "def get_producers(url):\n",
    "    soup = soupy(url)\n",
    "    Id = url.split('/')[4]\n",
    "    try:\n",
    "        produced = soup.find(text=re.compile(\"Produced by\"))\n",
    "        nexty = produced.findNext('table')  \n",
    "        names = nexty.findAll(class_='name')\n",
    "        producers = []\n",
    "        for i in names:\n",
    "            producers.append(i.text.strip())\n",
    "    except AttributeError:\n",
    "        producers = None\n",
    "        \n",
    "    producer_info.append([Id, producers])"
   ]
  },
  {
   "cell_type": "code",
   "execution_count": 118,
   "metadata": {
    "collapsed": true
   },
   "outputs": [],
   "source": [
    "# List to capture producer info\n",
    "producer_info = []"
   ]
  },
  {
   "cell_type": "code",
   "execution_count": 161,
   "metadata": {
    "collapsed": false
   },
   "outputs": [],
   "source": [
    "for i in title_ids[16000:]:\n",
    "    get_producers(url_credits.format(i))"
   ]
  },
  {
   "cell_type": "code",
   "execution_count": 170,
   "metadata": {
    "collapsed": false
   },
   "outputs": [],
   "source": [
    "producer_df = pd.DataFrame(producer_info)"
   ]
  },
  {
   "cell_type": "code",
   "execution_count": 171,
   "metadata": {
    "collapsed": false
   },
   "outputs": [],
   "source": [
    "producer_df.columns = ['imdbID', 'Producers']"
   ]
  },
  {
   "cell_type": "code",
   "execution_count": 172,
   "metadata": {
    "collapsed": false
   },
   "outputs": [],
   "source": [
    "# Drop any duplicates\n",
    "producer_df.drop_duplicates(subset='imdbID', inplace=True)"
   ]
  },
  {
   "cell_type": "code",
   "execution_count": 173,
   "metadata": {
    "collapsed": true
   },
   "outputs": [],
   "source": [
    "# Drop any null ids that resulted from our connection being kicked\n",
    "producer_df = producer_df[producer_df.imdbID.notnull()]"
   ]
  },
  {
   "cell_type": "code",
   "execution_count": 174,
   "metadata": {
    "collapsed": false
   },
   "outputs": [
    {
     "data": {
      "text/plain": [
       "(16137, 2)"
      ]
     },
     "execution_count": 174,
     "metadata": {},
     "output_type": "execute_result"
    }
   ],
   "source": [
    "producer_df.shape"
   ]
  },
  {
   "cell_type": "code",
   "execution_count": 175,
   "metadata": {
    "collapsed": false
   },
   "outputs": [
    {
     "data": {
      "text/html": [
       "<div>\n",
       "<table border=\"1\" class=\"dataframe\">\n",
       "  <thead>\n",
       "    <tr style=\"text-align: right;\">\n",
       "      <th></th>\n",
       "      <th>imdbID</th>\n",
       "      <th>Producers</th>\n",
       "    </tr>\n",
       "  </thead>\n",
       "  <tbody>\n",
       "    <tr>\n",
       "      <th>0</th>\n",
       "      <td>tt0437222</td>\n",
       "      <td>None</td>\n",
       "    </tr>\n",
       "    <tr>\n",
       "      <th>1</th>\n",
       "      <td>tt0050210</td>\n",
       "      <td>[Jacques R. Marquette, Dale Tate, Joy N. Houck...</td>\n",
       "    </tr>\n",
       "    <tr>\n",
       "      <th>2</th>\n",
       "      <td>tt0030725</td>\n",
       "      <td>[George M. Merrick, Louis Weiss]</td>\n",
       "    </tr>\n",
       "    <tr>\n",
       "      <th>3</th>\n",
       "      <td>tt0050212</td>\n",
       "      <td>[Sam Spiegel]</td>\n",
       "    </tr>\n",
       "    <tr>\n",
       "      <th>4</th>\n",
       "      <td>tt0381681</td>\n",
       "      <td>[Isabelle Coulet, John Sloss, Anne Walker-McBay]</td>\n",
       "    </tr>\n",
       "  </tbody>\n",
       "</table>\n",
       "</div>"
      ],
      "text/plain": [
       "      imdbID                                          Producers\n",
       "0  tt0437222                                               None\n",
       "1  tt0050210  [Jacques R. Marquette, Dale Tate, Joy N. Houck...\n",
       "2  tt0030725                   [George M. Merrick, Louis Weiss]\n",
       "3  tt0050212                                      [Sam Spiegel]\n",
       "4  tt0381681   [Isabelle Coulet, John Sloss, Anne Walker-McBay]"
      ]
     },
     "execution_count": 175,
     "metadata": {},
     "output_type": "execute_result"
    }
   ],
   "source": [
    "producer_df.head()"
   ]
  },
  {
   "cell_type": "code",
   "execution_count": 176,
   "metadata": {
    "collapsed": true
   },
   "outputs": [],
   "source": [
    "# Export dataframe with pickle\n",
    "producer_df.to_pickle('producer_df.pkl')"
   ]
  },
  {
   "cell_type": "code",
   "execution_count": 141,
   "metadata": {
    "collapsed": false
   },
   "outputs": [
    {
     "ename": "NameError",
     "evalue": "name 'producer_df' is not defined",
     "output_type": "error",
     "traceback": [
      "\u001b[0;31m---------------------------------------------------------------------------\u001b[0m",
      "\u001b[0;31mNameError\u001b[0m                                 Traceback (most recent call last)",
      "\u001b[0;32m<ipython-input-141-0e72f3dde64a>\u001b[0m in \u001b[0;36m<module>\u001b[0;34m()\u001b[0m\n\u001b[0;32m----> 1\u001b[0;31m \u001b[0mproducer_df\u001b[0m\u001b[0;34m.\u001b[0m\u001b[0mhead\u001b[0m\u001b[0;34m(\u001b[0m\u001b[0;34m)\u001b[0m\u001b[0;34m\u001b[0m\u001b[0m\n\u001b[0m",
      "\u001b[0;31mNameError\u001b[0m: name 'producer_df' is not defined"
     ]
    }
   ],
   "source": [
    "producer_df.head()"
   ]
  },
  {
   "cell_type": "code",
   "execution_count": null,
   "metadata": {
    "collapsed": true
   },
   "outputs": [],
   "source": []
  }
 ],
 "metadata": {
  "anaconda-cloud": {},
  "kernelspec": {
   "display_name": "Python [conda root]",
   "language": "python",
   "name": "conda-root-py"
  },
  "language_info": {
   "codemirror_mode": {
    "name": "ipython",
    "version": 2
   },
   "file_extension": ".py",
   "mimetype": "text/x-python",
   "name": "python",
   "nbconvert_exporter": "python",
   "pygments_lexer": "ipython2",
   "version": "2.7.12"
  }
 },
 "nbformat": 4,
 "nbformat_minor": 1
}
